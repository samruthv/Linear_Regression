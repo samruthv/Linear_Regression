{
 "cells": [
  {
   "cell_type": "markdown",
   "metadata": {},
   "source": [
    "# Problem 39"
   ]
  },
  {
   "cell_type": "code",
   "execution_count": 130,
   "metadata": {},
   "outputs": [],
   "source": [
    "import numpy as np\n",
    "import pandas as pd\n",
    "import matplotlib.pyplot as plt\n",
    "from statistics import mean\n",
    "import statistics\n",
    "import scipy.stats as st\n",
    "from scipy.stats import median_test\n",
    "import statistics, math\n",
    "from scipy.stats import mannwhitneyu"
   ]
  },
  {
   "cell_type": "markdown",
   "metadata": {},
   "source": [
    "## Part A"
   ]
  },
  {
   "cell_type": "code",
   "execution_count": 1,
   "metadata": {},
   "outputs": [],
   "source": [
    "data = [[676, 88],\n",
    "[206, 570],\n",
    "[230, 605],\n",
    "[256, 617],\n",
    "[280, 653],\n",
    "[433, 2913],\n",
    "[337, 924],\n",
    "[466, 286],\n",
    "[497, 1098],\n",
    "[512, 982],\n",
    "[794, 2346],\n",
    "[428, 321],\n",
    "[452, 615],\n",
    "[512, 519]]"
   ]
  },
  {
   "cell_type": "code",
   "execution_count": 35,
   "metadata": {},
   "outputs": [
    {
     "name": "stdout",
     "output_type": "stream",
     "text": [
      "[676, 206, 230, 256, 280, 433, 337, 466, 497, 512, 794, 428, 452, 512]\n",
      "[88, 570, 605, 617, 653, 2913, 924, 286, 1098, 982, 2346, 321, 615, 519]\n"
     ]
    }
   ],
   "source": [
    "\n",
    "test = [None]*len(data)\n",
    "for i in range(len(data)):\n",
    "    test[i] = data[i][0]\n",
    "control = [None]*len(data)\n",
    "for i in range(len(data)):\n",
    "    control[i] = data[i][1]"
   ]
  },
  {
   "cell_type": "code",
   "execution_count": 45,
   "metadata": {},
   "outputs": [
    {
     "data": {
      "text/html": [
       "<div>\n",
       "<style scoped>\n",
       "    .dataframe tbody tr th:only-of-type {\n",
       "        vertical-align: middle;\n",
       "    }\n",
       "\n",
       "    .dataframe tbody tr th {\n",
       "        vertical-align: top;\n",
       "    }\n",
       "\n",
       "    .dataframe thead th {\n",
       "        text-align: right;\n",
       "    }\n",
       "</style>\n",
       "<table border=\"1\" class=\"dataframe\">\n",
       "  <thead>\n",
       "    <tr style=\"text-align: right;\">\n",
       "      <th></th>\n",
       "      <th>test</th>\n",
       "      <th>control</th>\n",
       "      <th>difference</th>\n",
       "    </tr>\n",
       "  </thead>\n",
       "  <tbody>\n",
       "    <tr>\n",
       "      <th>0</th>\n",
       "      <td>676</td>\n",
       "      <td>88</td>\n",
       "      <td>588</td>\n",
       "    </tr>\n",
       "    <tr>\n",
       "      <th>1</th>\n",
       "      <td>206</td>\n",
       "      <td>570</td>\n",
       "      <td>-364</td>\n",
       "    </tr>\n",
       "    <tr>\n",
       "      <th>2</th>\n",
       "      <td>230</td>\n",
       "      <td>605</td>\n",
       "      <td>-375</td>\n",
       "    </tr>\n",
       "    <tr>\n",
       "      <th>3</th>\n",
       "      <td>256</td>\n",
       "      <td>617</td>\n",
       "      <td>-361</td>\n",
       "    </tr>\n",
       "    <tr>\n",
       "      <th>4</th>\n",
       "      <td>280</td>\n",
       "      <td>653</td>\n",
       "      <td>-373</td>\n",
       "    </tr>\n",
       "    <tr>\n",
       "      <th>5</th>\n",
       "      <td>433</td>\n",
       "      <td>2913</td>\n",
       "      <td>-2480</td>\n",
       "    </tr>\n",
       "    <tr>\n",
       "      <th>6</th>\n",
       "      <td>337</td>\n",
       "      <td>924</td>\n",
       "      <td>-587</td>\n",
       "    </tr>\n",
       "    <tr>\n",
       "      <th>7</th>\n",
       "      <td>466</td>\n",
       "      <td>286</td>\n",
       "      <td>180</td>\n",
       "    </tr>\n",
       "    <tr>\n",
       "      <th>8</th>\n",
       "      <td>497</td>\n",
       "      <td>1098</td>\n",
       "      <td>-601</td>\n",
       "    </tr>\n",
       "    <tr>\n",
       "      <th>9</th>\n",
       "      <td>512</td>\n",
       "      <td>982</td>\n",
       "      <td>-470</td>\n",
       "    </tr>\n",
       "    <tr>\n",
       "      <th>10</th>\n",
       "      <td>794</td>\n",
       "      <td>2346</td>\n",
       "      <td>-1552</td>\n",
       "    </tr>\n",
       "    <tr>\n",
       "      <th>11</th>\n",
       "      <td>428</td>\n",
       "      <td>321</td>\n",
       "      <td>107</td>\n",
       "    </tr>\n",
       "    <tr>\n",
       "      <th>12</th>\n",
       "      <td>452</td>\n",
       "      <td>615</td>\n",
       "      <td>-163</td>\n",
       "    </tr>\n",
       "    <tr>\n",
       "      <th>13</th>\n",
       "      <td>512</td>\n",
       "      <td>519</td>\n",
       "      <td>-7</td>\n",
       "    </tr>\n",
       "  </tbody>\n",
       "</table>\n",
       "</div>"
      ],
      "text/plain": [
       "    test  control  difference\n",
       "0    676       88         588\n",
       "1    206      570        -364\n",
       "2    230      605        -375\n",
       "3    256      617        -361\n",
       "4    280      653        -373\n",
       "5    433     2913       -2480\n",
       "6    337      924        -587\n",
       "7    466      286         180\n",
       "8    497     1098        -601\n",
       "9    512      982        -470\n",
       "10   794     2346       -1552\n",
       "11   428      321         107\n",
       "12   452      615        -163\n",
       "13   512      519          -7"
      ]
     },
     "execution_count": 45,
     "metadata": {},
     "output_type": "execute_result"
    }
   ],
   "source": [
    "df = pd.DataFrame({'test':test,'control':control})\n",
    "df['difference'] = df['test'] - df['control']\n",
    "df"
   ]
  },
  {
   "cell_type": "code",
   "execution_count": 48,
   "metadata": {},
   "outputs": [
    {
     "data": {
      "image/png": "[encoded data removed]",
      "text/plain": [
       "<Figure size 432x288 with 1 Axes>"
      ]
     },
     "metadata": {
      "needs_background": "light"
     },
     "output_type": "display_data"
    }
   ],
   "source": [
    "plt.scatter(x= df.loc[:, 'difference'], y= df.loc[:, 'control'])\n",
    "plt.xlabel('Difference')\n",
    "plt.ylabel('Control')\n",
    "plt.title('Diff vs Control')\n",
    "plt.show()"
   ]
  },
  {
   "cell_type": "markdown",
   "metadata": {},
   "source": [
    "### We see a negative slope and a linear relation between the difference and the control"
   ]
  },
  {
   "cell_type": "markdown",
   "metadata": {},
   "source": [
    "## Part B"
   ]
  },
  {
   "cell_type": "code",
   "execution_count": 77,
   "metadata": {},
   "outputs": [
    {
     "name": "stdout",
     "output_type": "stream",
     "text": [
      "The mean difference is: -461.2857142857143\n"
     ]
    }
   ],
   "source": [
    "diff=statistics.mean(test)-statistics.mean(control)\n",
    "print(f'The mean difference is: {diff}')"
   ]
  },
  {
   "cell_type": "code",
   "execution_count": 91,
   "metadata": {},
   "outputs": [
    {
     "name": "stdout",
     "output_type": "stream",
     "text": [
      "Test Standard Deviation: 167.35369204698844\n",
      "Control Standard Deviation: 790.5351400743092\n",
      "Difference Standard Deviation: 757.8092340192452\n"
     ]
    }
   ],
   "source": [
    "print(f\"Test Standard Deviation: {df.test.std()}\")\n",
    "print(f\"Control Standard Deviation: {df.control.std()}\")\n",
    "print(f\"Difference Standard Deviation: {df.difference.std()}\")"
   ]
  },
  {
   "cell_type": "code",
   "execution_count": 98,
   "metadata": {},
   "outputs": [
    {
     "name": "stdout",
     "output_type": "stream",
     "text": [
      "Confidence Interval: (-898.8317393544219, -23.739689217006685)\n"
     ]
    }
   ],
   "source": [
    "conf=st.t.interval(alpha=0.95, df=len(df.difference)-1, loc=np.mean(df.difference), scale=st.sem(df.difference))\n",
    "print(f\"Confidence Interval: {conf}\")"
   ]
  },
  {
   "cell_type": "markdown",
   "metadata": {},
   "source": [
    "## Part C"
   ]
  },
  {
   "cell_type": "code",
   "execution_count": 99,
   "metadata": {},
   "outputs": [
    {
     "name": "stdout",
     "output_type": "stream",
     "text": [
      "The median of Test is: 442.5\n",
      "The median of Control is: 616.0\n",
      "The median difference is: -173.5\n"
     ]
    }
   ],
   "source": [
    "diff_med=statistics.median(test)-statistics.median(control)\n",
    "print(f'The median of Test is: {statistics.median(test)}')\n",
    "print(f'The median of Control is: {statistics.median(control)}')\n",
    "print(f'The median difference is: {diff_med}')"
   ]
  },
  {
   "cell_type": "code",
   "execution_count": 90,
   "metadata": {},
   "outputs": [
    {
     "name": "stdout",
     "output_type": "stream",
     "text": [
      "The median confidence interval is (-165.9669629833135, -571.0330370166865)\n"
     ]
    }
   ],
   "source": [
    "size=len(df.difference)\n",
    "med_conf = (df.difference.median() + df.difference.std()/ (size)**(1/2),\n",
    " df.difference.median() - df.difference.std()/ (size)**(1/2))\n",
    "\n",
    "print(f'The median confidence interval is {med_conf}')\n"
   ]
  },
  {
   "cell_type": "code",
   "execution_count": 125,
   "metadata": {},
   "outputs": [
    {
     "name": "stdout",
     "output_type": "stream",
     "text": [
      "Test Medium CI\n",
      "(206.0, 794.0)\n",
      "Control Medium CI\n",
      "(286.0, 2913.0)\n"
     ]
    }
   ],
   "source": [
    "from __future__ import division, print_function\n",
    "import numpy as np, scipy.stats as st\n",
    "\n",
    "# example data set\n",
    "def med_ci(data,alpha):\n",
    "    a = np.array(data)\n",
    "    w = a + 1\n",
    "    # create custom discrete random variable from data set\n",
    "    rv = st.rv_discrete(values=(a, w/w.sum()))\n",
    "    # scipy.stats.rv_discrete has methods for median, confidence interval, etc.\n",
    "    print(rv.interval(alpha))\n",
    "    \n",
    "print('Test Medium CI')    \n",
    "med_ci(test,.95)\n",
    "print('Control Medium CI')    \n",
    "med_ci(control,.95)\n",
    "\n",
    "\n"
   ]
  },
  {
   "cell_type": "markdown",
   "metadata": {},
   "source": [
    "### We can see that the mean and the median value are very different for test and control and there difference"
   ]
  },
  {
   "cell_type": "markdown",
   "metadata": {},
   "source": [
    "## Part D"
   ]
  },
  {
   "cell_type": "markdown",
   "metadata": {},
   "source": [
    "### It is appropriate to conduct a non-parametric test as the normal test failed for this data set. That is a base assumption for a t-test."
   ]
  },
  {
   "cell_type": "code",
   "execution_count": 128,
   "metadata": {},
   "outputs": [
    {
     "data": {
      "text/plain": [
       "Ttest_indResult(statistic=-2.135959629636021, pvalue=0.04226646799521951)"
      ]
     },
     "execution_count": 128,
     "metadata": {},
     "output_type": "execute_result"
    }
   ],
   "source": [
    "st.ttest_ind(test, control)"
   ]
  },
  {
   "cell_type": "code",
   "execution_count": 136,
   "metadata": {},
   "outputs": [
    {
     "data": {
      "text/plain": [
       "MannwhitneyuResult(statistic=46.0, pvalue=0.008975449241808228)"
      ]
     },
     "execution_count": 136,
     "metadata": {},
     "output_type": "execute_result"
    }
   ],
   "source": [
    "mannwhitneyu(test, control)"
   ]
  }
 ],
 "metadata": {
  "kernelspec": {
   "display_name": "Python 3",
   "language": "python",
   "name": "python3"
  },
  "language_info": {
   "codemirror_mode": {
    "name": "ipython",
    "version": 3
   },
   "file_extension": ".py",
   "mimetype": "text/x-python",
   "name": "python",
   "nbconvert_exporter": "python",
   "pygments_lexer": "ipython3",
   "version": "3.7.6"
  }
 },
 "nbformat": 4,
 "nbformat_minor": 4
}
